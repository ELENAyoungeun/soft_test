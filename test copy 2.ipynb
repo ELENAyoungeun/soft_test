{
 "cells": [
  {
   "cell_type": "code",
   "execution_count": null,
   "metadata": {},
   "outputs": [],
   "source": [
    "import random\n",
    "\n",
    "# 요일과 시간대에 대한 리스트\n",
    "days = [\"월요일\", \"화요일\", \"수요일\", \"목요일\", \"금요일\"]\n",
    "times = [\"09:00 - 10:30\", \"10:30 - 12:00\", \"12:00 - 13:00\", \"13:00 - 14:30\", \"14:30 - 16:00\", \"16:00 - 17:30\"]\n",
    "\n",
    "# 강의 리스트 (점심시간과 진로탐색을 고정으로 지정)\n",
    "lectures = [\n",
    "    \"논리적문제해결2\",\n",
    "    \"리눅스운영체제\",\n",
    "    \"점심시간\",\n",
    "    \"AI프로그래밍\",\n",
    "    \"확률과 통계\",\n",
    "    \"AI수학\",\n",
    "    \"서비스러닝\",\n",
    "    \"영상이해\",\n",
    "    \"인공지능기초\",\n",
    "    \"논리적문제해결1\",\n",
    "    \"AI알고리즘\",\n",
    "    \"기계학습\",\n",
    "    \"딥러닝\",\n",
    "    \"진로탐색\"\n",
    "]\n",
    "\n",
    "# 무작위로 강의 배정\n",
    "schedule = {}\n",
    "\n",
    "for day in days:\n",
    "    schedule[day] = {}\n",
    "    random_lectures = [lecture for lecture in lectures if lecture not in [\"점심시간\", \"진로탐색\"]]  # 점심시간과 진로탐색은 고정\n",
    "    for time in times:\n",
    "        if time == \"12:00 - 13:00\":\n",
    "            schedule[day][time] = \"점심시간\"\n",
    "        elif time == \"16:00 - 17:30\":\n",
    "            schedule[day][time] = \"진로탐색\"\n",
    "        elif random_lectures:\n",
    "            lecture = random.choice(random_lectures)\n",
    "            schedule[day][time] = lecture\n",
    "            random_lectures.remove(lecture)\n",
    "\n",
    "# 시간표 출력\n",
    "for day in days:\n",
    "    for time in times:\n",
    "        print(f\"{day} {time}: {schedule[day][time]}\")\n"
   ]
  }
 ],
 "metadata": {
  "language_info": {
   "name": "python"
  },
  "orig_nbformat": 4
 },
 "nbformat": 4,
 "nbformat_minor": 2
}
